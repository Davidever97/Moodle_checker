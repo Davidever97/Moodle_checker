{
 "cells": [
  {
   "cell_type": "markdown",
   "metadata": {},
   "source": [
    "# Moodle Checker"
   ]
  },
  {
   "cell_type": "code",
   "execution_count": 42,
   "metadata": {},
   "outputs": [],
   "source": [
    "import selenium\n",
    "from selenium import webdriver\n",
    "import time\n",
    "import os\n",
    "import pync\n",
    "from selenium.webdriver.common.keys import Keys\n",
    "from selenium.webdriver.chrome.options import Options"
   ]
  },
  {
   "cell_type": "code",
   "execution_count": 43,
   "metadata": {},
   "outputs": [
    {
     "name": "stderr",
     "output_type": "stream",
     "text": [
      "/Users/davideesposito/opt/anaconda3/lib/python3.7/site-packages/ipykernel_launcher.py:3: DeprecationWarning: use options instead of chrome_options\n",
      "  This is separate from the ipykernel package so we can avoid doing imports until\n"
     ]
    }
   ],
   "source": [
    "options = Options()\n",
    "options.headless = True\n",
    "driver = webdriver.Chrome(\"/Users/davideesposito/Downloads/chromedriver\",chrome_options=options)\n",
    "driver.get(\"https://elearning15.unibg.it\")"
   ]
  },
  {
   "cell_type": "code",
   "execution_count": 44,
   "metadata": {},
   "outputs": [],
   "source": [
    "login = driver.find_element_by_css_selector(\"#header > div > ul > li.nav-item.d-flex.align-items-center > div > span > a\")\n",
    "login.click()\n",
    "myUnibg=driver.find_element_by_css_selector(\"#region-main > div > div.row.justify-content-center > div > div > div > div > div.row.justify-content-md-center.mt-4.mb-4 > div > div > div > a\")\n",
    "myUnibg.click()\n",
    "username = driver.find_element_by_xpath('//*[@id=\"username\"]')\n",
    "username.send_keys(\"YOURUSERNAME\")\n",
    "password = driver.find_element_by_xpath('//*[@id=\"password\"]')\n",
    "password.send_keys(\"YOURPASS\")\n",
    "login = driver.find_element_by_css_selector(\"#login > input[type=submit]:nth-child(6)\")\n",
    "login.click()"
   ]
  },
  {
   "cell_type": "code",
   "execution_count": 31,
   "metadata": {},
   "outputs": [
    {
     "name": "stdout",
     "output_type": "stream",
     "text": [
      "Trattini gia in mostra\n"
     ]
    }
   ],
   "source": [
    "try:\n",
    "    trattini = driver.find_element_by_xpath('//*[@id=\"header\"]/div/div/button/span[3]')\n",
    "    trattini.click()\n",
    "except:\n",
    "    print(\"Trattini gia in mostra\")\n",
    "corso_link=driver.find_element_by_css_selector(\"#nav-drawer > nav > a:nth-child(11) > div > div > span.media-body\")\n",
    "corso_link.click()"
   ]
  },
  {
   "cell_type": "markdown",
   "metadata": {},
   "source": [
    "## Prendo il testo dalla pagina"
   ]
  },
  {
   "cell_type": "code",
   "execution_count": 32,
   "metadata": {},
   "outputs": [
    {
     "data": {
      "text/plain": [
       "'Indice degli argomenti\\nAnnunci\\nForum\\nLink to lectures\\nURL\\nThursday 14:00-16:00\\nFriday 10:30-12:30\\nExe: Friday 12:30-13:30\\nProject work\\nProject Work\\nFile\\nProject work - teams creation\\nGroup self-selection\\nVariables description\\nFile\\nDatasets\\nCartella\\nTopic: Introduction to Market Regulation\\nLecture notes: Introduction to Market Regulation\\nFile\\nReadings\\nCartella\\nLink to lecture video 1A\\nURL\\nLink to lecture video 1B\\nURL\\nLink to lecture video 1C\\nURL\\nTopic: History and Theories of Regulation\\nLecture notes: History and Theories of Regulation\\nFile\\nReadings\\nCartella\\nLink to lecture video 2A\\nURL\\nLink to lecture video 2B\\nURL\\nTopic: Efficiency and competition\\nLecture notes: Efficiency and competition\\nFile\\nReadings\\nCartella\\nLink to lecture video 3A\\nURL\\nLink to lecture video 3B\\nURL\\nTutorial 1\\nHistorical regulatory interventions; Equilibrium and efficiency\\nFile\\nHomework 1 - Equilibrium and efficiency\\nCompito\\nLink to tutorial 1 video\\nURL\\nTutorial 1\\nFile\\nTopic: Market failures (1)\\nLecture notes: non-competitive markets\\nFile\\nReadings (for Market failures 1 and 2)\\nCartella\\nLink to lecture video 4A\\nURL\\nLink to lecture video 4B\\nURL\\nLink to lecture video 4C\\nURL\\nTutorial 2\\nTutorial 2: Imperfect competition\\nFile\\nUpdated with exercise 3\\nHomework 2: Imperfect competition\\nCompito\\nTutorial 2 - Notebook\\nFile\\nLink to tutorial 2 video\\nURL\\nTopic: Market failures (2)\\nLecture notes: Imperfect information, externalities and transaction costs\\nFile\\nLink to lecture video 5A\\nURL\\nLink to lecture video 5B\\nURL\\nLink to lecture video 5C\\nURL\\nLink to lecture video 5D\\nURL\\nTutorial 3\\nTutorial 3: Transaction and switching costs; Asymmetric information and externalities\\nFile\\nTutorial 3 - Notebook\\nFile\\nUpdated 06/11/2020\\nHomework 3\\nCompito\\nLink to tutorial 3 video\\nURL\\nTopic: Efficiency, equity and need in health care\\nLecture notes: Efficiency, equity and need in healthcare\\nFile\\nReadings\\nCartella\\nLink to lecture video 6A\\nURL\\nLink to lecture video 6B\\nURL\\nLink to lecture video 6C\\nURL\\nLink to lecture video 6D\\nURL\\nTutorial 4: Project work and introduction to STATA\\nTutorial 4 - Project work and introduction to STATA\\nFile\\nSTATA files\\nCartella\\nLink to tutorial 4 video\\nURL\\nTutorial 5: Inequality measures\\nTutorial 5 - Inequality measures\\nFile\\nHomework 5 - Inequality\\nCompito\\nTutorial 5 - notebook\\nFile\\nLink to tutorial 5 video\\nURL\\nTopic: Industry regulation\\nLecture notes: Industry regulation (1 and 2)\\nFile\\nReadings\\nCartella\\nLink to lecture video 7A\\nURL\\nLink to lecture video 7B\\nURL\\nLink to lecture video 7C\\nURL\\nLecture notes: Industry regulation (3)\\nFile\\nLink to lecture video 7D\\nURL\\nLink to lecture video 7E\\nURL\\nTutorial 6: Sustainable prices and entry\\nTutorial 6 - Sustainable prices and entry\\nFile\\nTopic: Pricing principles\\nLecture notes: Pricing principles (1)\\nFile\\nReadings\\nCartella'"
      ]
     },
     "execution_count": 32,
     "metadata": {},
     "output_type": "execute_result"
    }
   ],
   "source": [
    "page= driver.find_element_by_xpath('//*[@id=\"region-main\"]/div/div')\n",
    "page.text"
   ]
  },
  {
   "cell_type": "code",
   "execution_count": 33,
   "metadata": {},
   "outputs": [
    {
     "name": "stdout",
     "output_type": "stream",
     "text": [
      "Indice degli argomenti\n",
      "Annunci\n",
      "Forum\n",
      "Link to lectures\n",
      "URL\n",
      "Thursday 14:00-16:00\n",
      "Friday 10:30-12:30\n",
      "Exe: Friday 12:30-13:30\n",
      "Project work\n",
      "Project Work\n",
      "File\n",
      "Project work - teams creation\n",
      "Group self-selection\n",
      "Variables description\n",
      "File\n",
      "Datasets\n",
      "Cartella\n",
      "Topic: Introduction to Market Regulation\n",
      "Lecture notes: Introduction to Market Regulation\n",
      "File\n",
      "Readings\n",
      "Cartella\n",
      "Link to lecture video 1A\n",
      "URL\n",
      "Link to lecture video 1B\n",
      "URL\n",
      "Link to lecture video 1C\n",
      "URL\n",
      "Topic: History and Theories of Regulation\n",
      "Lecture notes: History and Theories of Regulation\n",
      "File\n",
      "Readings\n",
      "Cartella\n",
      "Link to lecture video 2A\n",
      "URL\n",
      "Link to lecture video 2B\n",
      "URL\n",
      "Topic: Efficiency and competition\n",
      "Lecture notes: Efficiency and competition\n",
      "File\n",
      "Readings\n",
      "Cartella\n",
      "Link to lecture video 3A\n",
      "URL\n",
      "Link to lecture video 3B\n",
      "URL\n",
      "Tutorial 1\n",
      "Historical regulatory interventions; Equilibrium and efficiency\n",
      "File\n",
      "Homework 1 - Equilibrium and efficiency\n",
      "Compito\n",
      "Link to tutorial 1 video\n",
      "URL\n",
      "Tutorial 1\n",
      "File\n",
      "Topic: Market failures (1)\n",
      "Lecture notes: non-competitive markets\n",
      "File\n",
      "Readings (for Market failures 1 and 2)\n",
      "Cartella\n",
      "Link to lecture video 4A\n",
      "URL\n",
      "Link to lecture video 4B\n",
      "URL\n",
      "Link to lecture video 4C\n",
      "URL\n",
      "Tutorial 2\n",
      "Tutorial 2: Imperfect competition\n",
      "File\n",
      "Updated with exercise 3\n",
      "Homework 2: Imperfect competition\n",
      "Compito\n",
      "Tutorial 2 - Notebook\n",
      "File\n",
      "Link to tutorial 2 video\n",
      "URL\n",
      "Topic: Market failures (2)\n",
      "Lecture notes: Imperfect information, externalities and transaction costs\n",
      "File\n",
      "Link to lecture video 5A\n",
      "URL\n",
      "Link to lecture video 5B\n",
      "URL\n",
      "Link to lecture video 5C\n",
      "URL\n",
      "Link to lecture video 5D\n",
      "URL\n",
      "Tutorial 3\n",
      "Tutorial 3: Transaction and switching costs; Asymmetric information and externalities\n",
      "File\n",
      "Tutorial 3 - Notebook\n",
      "File\n",
      "Updated 06/11/2020\n",
      "Homework 3\n",
      "Compito\n",
      "Link to tutorial 3 video\n",
      "URL\n",
      "Topic: Efficiency, equity and need in health care\n",
      "Lecture notes: Efficiency, equity and need in healthcare\n",
      "File\n",
      "Readings\n",
      "Cartella\n",
      "Link to lecture video 6A\n",
      "URL\n",
      "Link to lecture video 6B\n",
      "URL\n",
      "Link to lecture video 6C\n",
      "URL\n",
      "Link to lecture video 6D\n",
      "URL\n",
      "Tutorial 4: Project work and introduction to STATA\n",
      "Tutorial 4 - Project work and introduction to STATA\n",
      "File\n",
      "STATA files\n",
      "Cartella\n",
      "Link to tutorial 4 video\n",
      "URL\n",
      "Tutorial 5: Inequality measures\n",
      "Tutorial 5 - Inequality measures\n",
      "File\n",
      "Homework 5 - Inequality\n",
      "Compito\n",
      "Tutorial 5 - notebook\n",
      "File\n",
      "Link to tutorial 5 video\n",
      "URL\n",
      "Topic: Industry regulation\n",
      "Lecture notes: Industry regulation (1 and 2)\n",
      "File\n",
      "Readings\n",
      "Cartella\n",
      "Link to lecture video 7A\n",
      "URL\n",
      "Link to lecture video 7B\n",
      "URL\n",
      "Link to lecture video 7C\n",
      "URL\n",
      "Lecture notes: Industry regulation (3)\n",
      "File\n",
      "Link to lecture video 7D\n",
      "URL\n",
      "Link to lecture video 7E\n",
      "URL\n",
      "Tutorial 6: Sustainable prices and entry\n",
      "Tutorial 6 - Sustainable prices and entry\n",
      "File\n",
      "Topic: Pricing principles\n",
      "Lecture notes: Pricing principles (1)\n",
      "File\n",
      "Readings\n",
      "Cartella\n"
     ]
    }
   ],
   "source": [
    "print(page.text)"
   ]
  },
  {
   "cell_type": "code",
   "execution_count": 34,
   "metadata": {},
   "outputs": [],
   "source": [
    "f= open(\"page_text.txt\", 'r')"
   ]
  },
  {
   "cell_type": "code",
   "execution_count": 35,
   "metadata": {},
   "outputs": [
    {
     "name": "stdout",
     "output_type": "stream",
     "text": [
      "Nessun cambiamento\n"
     ]
    }
   ],
   "source": [
    "file_contents = f.read()\n",
    "if file_contents == page.text:\n",
    "    print(\"Nessun cambiamento\")\n",
    "else: \n",
    "    print(\"Qualcosa è cambiato\")\n",
    "    pync.notify('Aggiornamento Pagine MRHC', activate='https://elearning15.unibg.it/course/view.php?id=1304')\n",
    "    # Get the entire contents of the file\n",
    "f.close() "
   ]
  },
  {
   "cell_type": "code",
   "execution_count": 36,
   "metadata": {},
   "outputs": [],
   "source": [
    "page_text=open(\"page_text.txt\", 'w')"
   ]
  },
  {
   "cell_type": "code",
   "execution_count": 37,
   "metadata": {},
   "outputs": [],
   "source": [
    "page_text.write(page.text)\n",
    "page_text.close() "
   ]
  },
  {
   "cell_type": "code",
   "execution_count": 46,
   "metadata": {},
   "outputs": [],
   "source": [
    "pync.notify(\"Funziona\")"
   ]
  },
  {
   "cell_type": "code",
   "execution_count": 45,
   "metadata": {},
   "outputs": [],
   "source": [
    "driver.close()"
   ]
  }
 ],
 "metadata": {
  "kernelspec": {
   "display_name": "Python 3",
   "language": "python",
   "name": "python3"
  },
  "language_info": {
   "codemirror_mode": {
    "name": "ipython",
    "version": 3
   },
   "file_extension": ".py",
   "mimetype": "text/x-python",
   "name": "python",
   "nbconvert_exporter": "python",
   "pygments_lexer": "ipython3",
   "version": "3.7.4"
  }
 },
 "nbformat": 4,
 "nbformat_minor": 4
}
